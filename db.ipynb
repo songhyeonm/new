{
 "cells": [
  {
   "cell_type": "code",
   "execution_count": 1,
   "metadata": {},
   "outputs": [],
   "source": [
    "from models import Board\n",
    "from database import SessionLocal"
   ]
  },
  {
   "cell_type": "markdown",
   "metadata": {},
   "source": [
    "Create(POST)"
   ]
  },
  {
   "cell_type": "code",
   "execution_count": 6,
   "metadata": {},
   "outputs": [],
   "source": [
    "data = {\n",
    "    'title' : '제목03',\n",
    "    'content': '내용03',\n",
    "    'writer' : 'sss',\n",
    "}\n",
    "\n",
    "p = Board(title = data['title'], content = data['content'], writer = data['writer'])\n",
    "\n",
    "db = SessionLocal()\n",
    "db.add(p)\n",
    "db.commit()"
   ]
  },
  {
   "cell_type": "markdown",
   "metadata": {},
   "source": [
    "Read(GET)"
   ]
  },
  {
   "cell_type": "code",
   "execution_count": 18,
   "metadata": {},
   "outputs": [
    {
     "name": "stdout",
     "output_type": "stream",
     "text": [
      "제목01 내용01 문송현 2024-01-02 17:29:54.306083\n",
      "제목02 내용02 mmm 2024-01-02 17:50:36.797681\n",
      "제목03 내용03 sss 2024-01-02 17:50:54.503525\n"
     ]
    }
   ],
   "source": [
    "# Board 모델을 모든 레코드 쿼리하고 변수로 저장\n",
    "my_datas = db.query(Board).all()\n",
    "\n",
    "for record in my_datas:\n",
    "    print(record.title, record.content, record.writer, record.date)"
   ]
  },
  {
   "cell_type": "markdown",
   "metadata": {},
   "source": [
    "Update"
   ]
  },
  {
   "cell_type": "code",
   "execution_count": 23,
   "metadata": {},
   "outputs": [],
   "source": [
    "\n",
    "# my_datas = db.query(Board).filter(Board.content.like(\"%내용03%\")).all()[0]\n",
    "\n",
    "# my_datas.content = \"내용03 수정\"\n",
    "\n",
    "# 한 줄로 수정하는 코드 작성: \n",
    "db.query(Board).filter(Board.content.like(\"%내용03%\")).update({\"content\": \"내용03 2차 수정\"})\n",
    "\n",
    "db.commit()"
   ]
  },
  {
   "cell_type": "markdown",
   "metadata": {},
   "source": [
    "Delete"
   ]
  },
  {
   "cell_type": "code",
   "execution_count": 26,
   "metadata": {},
   "outputs": [],
   "source": [
    "my_datas = db.query(Board).filter(Board.number == 3).all()\n",
    "\n",
    "query_res = my_datas[0]\n",
    "\n",
    "db.delete(query_res)\n",
    "\n",
    "db.commit()"
   ]
  },
  {
   "cell_type": "code",
   "execution_count": null,
   "metadata": {},
   "outputs": [],
   "source": []
  }
 ],
 "metadata": {
  "kernelspec": {
   "display_name": "base",
   "language": "python",
   "name": "python3"
  },
  "language_info": {
   "codemirror_mode": {
    "name": "ipython",
    "version": 3
   },
   "file_extension": ".py",
   "mimetype": "text/x-python",
   "name": "python",
   "nbconvert_exporter": "python",
   "pygments_lexer": "ipython3",
   "version": "3.11.5"
  }
 },
 "nbformat": 4,
 "nbformat_minor": 2
}
